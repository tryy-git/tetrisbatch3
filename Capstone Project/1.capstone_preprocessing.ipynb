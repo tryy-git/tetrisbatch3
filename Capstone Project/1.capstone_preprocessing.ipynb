{
 "cells": [
  {
   "cell_type": "code",
   "execution_count": 239,
   "metadata": {},
   "outputs": [
    {
     "data": {
      "text/html": [
       "<div>\n",
       "<style scoped>\n",
       "    .dataframe tbody tr th:only-of-type {\n",
       "        vertical-align: middle;\n",
       "    }\n",
       "\n",
       "    .dataframe tbody tr th {\n",
       "        vertical-align: top;\n",
       "    }\n",
       "\n",
       "    .dataframe thead th {\n",
       "        text-align: right;\n",
       "    }\n",
       "</style>\n",
       "<table border=\"1\" class=\"dataframe\">\n",
       "  <thead>\n",
       "    <tr style=\"text-align: right;\">\n",
       "      <th></th>\n",
       "      <th>VIN (1-10)</th>\n",
       "      <th>County</th>\n",
       "      <th>City</th>\n",
       "      <th>State</th>\n",
       "      <th>Postal Code</th>\n",
       "      <th>Model Year</th>\n",
       "      <th>Make</th>\n",
       "      <th>Model</th>\n",
       "      <th>Electric Vehicle Type</th>\n",
       "      <th>Clean Alternative Fuel Vehicle (CAFV) Eligibility</th>\n",
       "      <th>Electric Range</th>\n",
       "      <th>Base MSRP</th>\n",
       "      <th>Legislative District</th>\n",
       "      <th>DOL Vehicle ID</th>\n",
       "      <th>Vehicle Location</th>\n",
       "      <th>Electric Utility</th>\n",
       "      <th>2020 Census Tract</th>\n",
       "    </tr>\n",
       "  </thead>\n",
       "  <tbody>\n",
       "    <tr>\n",
       "      <th>0</th>\n",
       "      <td>5YJXCAE26J</td>\n",
       "      <td>Yakima</td>\n",
       "      <td>Yakima</td>\n",
       "      <td>WA</td>\n",
       "      <td>98908.0</td>\n",
       "      <td>2018</td>\n",
       "      <td>TESLA</td>\n",
       "      <td>MODEL X</td>\n",
       "      <td>Battery Electric Vehicle (BEV)</td>\n",
       "      <td>Clean Alternative Fuel Vehicle Eligible</td>\n",
       "      <td>238</td>\n",
       "      <td>0</td>\n",
       "      <td>14.0</td>\n",
       "      <td>141151601</td>\n",
       "      <td>POINT (-120.56916 46.58514)</td>\n",
       "      <td>PACIFICORP</td>\n",
       "      <td>5.307700e+10</td>\n",
       "    </tr>\n",
       "    <tr>\n",
       "      <th>1</th>\n",
       "      <td>JHMZC5F37M</td>\n",
       "      <td>Kitsap</td>\n",
       "      <td>Poulsbo</td>\n",
       "      <td>WA</td>\n",
       "      <td>98370.0</td>\n",
       "      <td>2021</td>\n",
       "      <td>HONDA</td>\n",
       "      <td>CLARITY</td>\n",
       "      <td>Plug-in Hybrid Electric Vehicle (PHEV)</td>\n",
       "      <td>Clean Alternative Fuel Vehicle Eligible</td>\n",
       "      <td>47</td>\n",
       "      <td>0</td>\n",
       "      <td>23.0</td>\n",
       "      <td>171566447</td>\n",
       "      <td>POINT (-122.64681 47.73689)</td>\n",
       "      <td>PUGET SOUND ENERGY INC</td>\n",
       "      <td>5.303509e+10</td>\n",
       "    </tr>\n",
       "  </tbody>\n",
       "</table>\n",
       "</div>"
      ],
      "text/plain": [
       "   VIN (1-10)  County     City State  Postal Code  Model Year   Make    Model  \\\n",
       "0  5YJXCAE26J  Yakima   Yakima    WA      98908.0        2018  TESLA  MODEL X   \n",
       "1  JHMZC5F37M  Kitsap  Poulsbo    WA      98370.0        2021  HONDA  CLARITY   \n",
       "\n",
       "                    Electric Vehicle Type  \\\n",
       "0          Battery Electric Vehicle (BEV)   \n",
       "1  Plug-in Hybrid Electric Vehicle (PHEV)   \n",
       "\n",
       "  Clean Alternative Fuel Vehicle (CAFV) Eligibility  Electric Range  \\\n",
       "0           Clean Alternative Fuel Vehicle Eligible             238   \n",
       "1           Clean Alternative Fuel Vehicle Eligible              47   \n",
       "\n",
       "   Base MSRP  Legislative District  DOL Vehicle ID  \\\n",
       "0          0                  14.0       141151601   \n",
       "1          0                  23.0       171566447   \n",
       "\n",
       "              Vehicle Location        Electric Utility  2020 Census Tract  \n",
       "0  POINT (-120.56916 46.58514)              PACIFICORP       5.307700e+10  \n",
       "1  POINT (-122.64681 47.73689)  PUGET SOUND ENERGY INC       5.303509e+10  "
      ]
     },
     "execution_count": 239,
     "metadata": {},
     "output_type": "execute_result"
    }
   ],
   "source": [
    "import pandas as pd\n",
    "path = 'Electric_Vehicle_Population_Data.csv'\n",
    "data = pd.read_csv(path)\n",
    "data.head(2)"
   ]
  },
  {
   "cell_type": "code",
   "execution_count": 240,
   "metadata": {},
   "outputs": [
    {
     "name": "stdout",
     "output_type": "stream",
     "text": [
      "<class 'pandas.core.frame.DataFrame'>\n",
      "RangeIndex: 130443 entries, 0 to 130442\n",
      "Data columns (total 17 columns):\n",
      " #   Column                                             Non-Null Count   Dtype  \n",
      "---  ------                                             --------------   -----  \n",
      " 0   VIN (1-10)                                         130443 non-null  object \n",
      " 1   County                                             130440 non-null  object \n",
      " 2   City                                               130440 non-null  object \n",
      " 3   State                                              130443 non-null  object \n",
      " 4   Postal Code                                        130440 non-null  float64\n",
      " 5   Model Year                                         130443 non-null  int64  \n",
      " 6   Make                                               130443 non-null  object \n",
      " 7   Model                                              130221 non-null  object \n",
      " 8   Electric Vehicle Type                              130443 non-null  object \n",
      " 9   Clean Alternative Fuel Vehicle (CAFV) Eligibility  130443 non-null  object \n",
      " 10  Electric Range                                     130443 non-null  int64  \n",
      " 11  Base MSRP                                          130443 non-null  int64  \n",
      " 12  Legislative District                               130138 non-null  float64\n",
      " 13  DOL Vehicle ID                                     130443 non-null  int64  \n",
      " 14  Vehicle Location                                   130410 non-null  object \n",
      " 15  Electric Utility                                   130440 non-null  object \n",
      " 16  2020 Census Tract                                  130440 non-null  float64\n",
      "dtypes: float64(3), int64(4), object(10)\n",
      "memory usage: 16.9+ MB\n"
     ]
    }
   ],
   "source": [
    "data.info()"
   ]
  },
  {
   "cell_type": "code",
   "execution_count": 241,
   "metadata": {},
   "outputs": [
    {
     "data": {
      "text/plain": [
       "array(['VIN (1-10)', 'County', 'City', 'State', 'Postal Code',\n",
       "       'Model Year', 'Make', 'Model', 'Electric Vehicle Type',\n",
       "       'Clean Alternative Fuel Vehicle (CAFV) Eligibility',\n",
       "       'Electric Range', 'Base MSRP', 'Legislative District',\n",
       "       'DOL Vehicle ID', 'Vehicle Location', 'Electric Utility',\n",
       "       '2020 Census Tract'], dtype=object)"
      ]
     },
     "execution_count": 241,
     "metadata": {},
     "output_type": "execute_result"
    }
   ],
   "source": [
    "data.columns.values"
   ]
  },
  {
   "cell_type": "code",
   "execution_count": 242,
   "metadata": {},
   "outputs": [
    {
     "name": "stdout",
     "output_type": "stream",
     "text": [
      "<class 'pandas.core.frame.DataFrame'>\n",
      "RangeIndex: 130443 entries, 0 to 130442\n",
      "Data columns (total 9 columns):\n",
      " #   Column                                             Non-Null Count   Dtype \n",
      "---  ------                                             --------------   ----- \n",
      " 0   County                                             130440 non-null  object\n",
      " 1   City                                               130440 non-null  object\n",
      " 2   Model Year                                         130443 non-null  int64 \n",
      " 3   Make                                               130443 non-null  object\n",
      " 4   Model                                              130221 non-null  object\n",
      " 5   Electric Vehicle Type                              130443 non-null  object\n",
      " 6   Clean Alternative Fuel Vehicle (CAFV) Eligibility  130443 non-null  object\n",
      " 7   Electric Range                                     130443 non-null  int64 \n",
      " 8   Electric Utility                                   130440 non-null  object\n",
      "dtypes: int64(2), object(7)\n",
      "memory usage: 9.0+ MB\n"
     ]
    }
   ],
   "source": [
    "#Buat dataset baru dengan kolom-kolom yang diperlukan.\n",
    "dropped_col = [\n",
    "       'VIN (1-10)', 'State', 'Postal Code', 'Base MSRP', \n",
    "       'Legislative District', 'DOL Vehicle ID', 'Vehicle Location','2020 Census Tract']\n",
    "df = data.drop(columns=dropped_col)\n",
    "df.info()"
   ]
  },
  {
   "cell_type": "code",
   "execution_count": 243,
   "metadata": {},
   "outputs": [
    {
     "data": {
      "text/plain": [
       "array(['County', 'City', 'Model Year', 'Maker', 'Model', 'EV Type',\n",
       "       'CAFV Eligibility', 'Electric Range', 'Electric Utility'],\n",
       "      dtype=object)"
      ]
     },
     "execution_count": 243,
     "metadata": {},
     "output_type": "execute_result"
    }
   ],
   "source": [
    "#Mengganti beberapa nama kolom dengan nama yang lebih singkat.\n",
    "df.rename(columns={\n",
    "    'Make': 'Maker', \n",
    "    'Electric Vehicle Type': 'EV Type', \n",
    "    'Clean Alternative Fuel Vehicle (CAFV) Eligibility': 'CAFV Eligibility'}, inplace=True)\n",
    "df.columns.values"
   ]
  },
  {
   "cell_type": "code",
   "execution_count": 244,
   "metadata": {},
   "outputs": [
    {
     "name": "stdout",
     "output_type": "stream",
     "text": [
      "EV Type: ['Battery Electric Vehicle (BEV)' 'Plug-in Hybrid Electric Vehicle (PHEV)']\n",
      "CAFV Eligibility: ['Clean Alternative Fuel Vehicle Eligible'\n",
      " 'Not eligible due to low battery range'\n",
      " 'Eligibility unknown as battery range has not been researched']\n"
     ]
    }
   ],
   "source": [
    "check_col = df[['EV Type', 'CAFV Eligibility']]\n",
    "for col in check_col.columns:\n",
    "    unique_values = df[col].unique()\n",
    "    print('{}: {}'.format(col, unique_values))"
   ]
  },
  {
   "cell_type": "code",
   "execution_count": 245,
   "metadata": {},
   "outputs": [
    {
     "data": {
      "text/html": [
       "<div>\n",
       "<style scoped>\n",
       "    .dataframe tbody tr th:only-of-type {\n",
       "        vertical-align: middle;\n",
       "    }\n",
       "\n",
       "    .dataframe tbody tr th {\n",
       "        vertical-align: top;\n",
       "    }\n",
       "\n",
       "    .dataframe thead th {\n",
       "        text-align: right;\n",
       "    }\n",
       "</style>\n",
       "<table border=\"1\" class=\"dataframe\">\n",
       "  <thead>\n",
       "    <tr style=\"text-align: right;\">\n",
       "      <th></th>\n",
       "      <th>County</th>\n",
       "      <th>City</th>\n",
       "      <th>Model Year</th>\n",
       "      <th>Maker</th>\n",
       "      <th>Model</th>\n",
       "      <th>EV Type</th>\n",
       "      <th>CAFV Eligibility</th>\n",
       "      <th>Electric Range</th>\n",
       "      <th>Electric Utility</th>\n",
       "    </tr>\n",
       "  </thead>\n",
       "  <tbody>\n",
       "    <tr>\n",
       "      <th>0</th>\n",
       "      <td>Yakima</td>\n",
       "      <td>Yakima</td>\n",
       "      <td>2018</td>\n",
       "      <td>TESLA</td>\n",
       "      <td>MODEL X</td>\n",
       "      <td>BEV</td>\n",
       "      <td>Eligible</td>\n",
       "      <td>238</td>\n",
       "      <td>PACIFICORP</td>\n",
       "    </tr>\n",
       "    <tr>\n",
       "      <th>1</th>\n",
       "      <td>Kitsap</td>\n",
       "      <td>Poulsbo</td>\n",
       "      <td>2021</td>\n",
       "      <td>HONDA</td>\n",
       "      <td>CLARITY</td>\n",
       "      <td>PHEV</td>\n",
       "      <td>Eligible</td>\n",
       "      <td>47</td>\n",
       "      <td>PSE INC</td>\n",
       "    </tr>\n",
       "    <tr>\n",
       "      <th>2</th>\n",
       "      <td>King</td>\n",
       "      <td>Seattle</td>\n",
       "      <td>2019</td>\n",
       "      <td>TESLA</td>\n",
       "      <td>MODEL 3</td>\n",
       "      <td>BEV</td>\n",
       "      <td>Eligible</td>\n",
       "      <td>220</td>\n",
       "      <td>CITY OF SEATTLE - (WA)|CITY OF TACOMA - (WA)</td>\n",
       "    </tr>\n",
       "    <tr>\n",
       "      <th>3</th>\n",
       "      <td>King</td>\n",
       "      <td>Seattle</td>\n",
       "      <td>2013</td>\n",
       "      <td>NISSAN</td>\n",
       "      <td>LEAF</td>\n",
       "      <td>BEV</td>\n",
       "      <td>Eligible</td>\n",
       "      <td>75</td>\n",
       "      <td>CITY OF SEATTLE - (WA)|CITY OF TACOMA - (WA)</td>\n",
       "    </tr>\n",
       "    <tr>\n",
       "      <th>4</th>\n",
       "      <td>Thurston</td>\n",
       "      <td>Lacey</td>\n",
       "      <td>2017</td>\n",
       "      <td>TESLA</td>\n",
       "      <td>MODEL S</td>\n",
       "      <td>BEV</td>\n",
       "      <td>Eligible</td>\n",
       "      <td>210</td>\n",
       "      <td>PSE INC</td>\n",
       "    </tr>\n",
       "  </tbody>\n",
       "</table>\n",
       "</div>"
      ],
      "text/plain": [
       "     County     City  Model Year   Maker    Model EV Type CAFV Eligibility  \\\n",
       "0    Yakima   Yakima        2018   TESLA  MODEL X     BEV         Eligible   \n",
       "1    Kitsap  Poulsbo        2021   HONDA  CLARITY    PHEV         Eligible   \n",
       "2      King  Seattle        2019   TESLA  MODEL 3     BEV         Eligible   \n",
       "3      King  Seattle        2013  NISSAN     LEAF     BEV         Eligible   \n",
       "4  Thurston    Lacey        2017   TESLA  MODEL S     BEV         Eligible   \n",
       "\n",
       "   Electric Range                              Electric Utility  \n",
       "0             238                                    PACIFICORP  \n",
       "1              47                                       PSE INC  \n",
       "2             220  CITY OF SEATTLE - (WA)|CITY OF TACOMA - (WA)  \n",
       "3              75  CITY OF SEATTLE - (WA)|CITY OF TACOMA - (WA)  \n",
       "4             210                                       PSE INC  "
      ]
     },
     "execution_count": 245,
     "metadata": {},
     "output_type": "execute_result"
    }
   ],
   "source": [
    "#Mengganti nilai-nilai string pada kolom EV type, CAFV Eligibility, dan Electric Utility.\n",
    "df['EV Type'].replace({\n",
    "    'Battery Electric Vehicle (BEV)': 'BEV', \n",
    "    'Plug-in Hybrid Electric Vehicle (PHEV)': 'PHEV'}, inplace=True)\n",
    "df['CAFV Eligibility'].replace({\n",
    "    'Clean Alternative Fuel Vehicle Eligible': 'Eligible', \n",
    "    'Not eligible due to low battery range': 'Not eligible',\n",
    "    'Eligibility unknown as battery range has not been researched': 'Unknown'}, inplace=True)\n",
    "df['Electric Utility'].replace({\n",
    "    'BONNEVILLE POWER ADMINISTRATION||AVISTA CORP||BIG BEND ELECTRIC COOP, INC': 'AVISTA CORP',\n",
    "    'BONNEVILLE POWER ADMINISTRATION||AVISTA CORP||INLAND POWER & LIGHT COMPANY': 'AVISTA CORP',\n",
    "    'BONNEVILLE POWER ADMINISTRATION||AVISTA CORP||PUD NO 1 OF ASOTIN COUNTY': 'AVISTA CORP',\n",
    "    'PUGET SOUND ENERGY INC': 'PSE INC'}, inplace=True)\n",
    "df.head()"
   ]
  },
  {
   "cell_type": "code",
   "execution_count": 246,
   "metadata": {},
   "outputs": [
    {
     "data": {
      "text/html": [
       "<div>\n",
       "<style scoped>\n",
       "    .dataframe tbody tr th:only-of-type {\n",
       "        vertical-align: middle;\n",
       "    }\n",
       "\n",
       "    .dataframe tbody tr th {\n",
       "        vertical-align: top;\n",
       "    }\n",
       "\n",
       "    .dataframe thead th {\n",
       "        text-align: right;\n",
       "    }\n",
       "</style>\n",
       "<table border=\"1\" class=\"dataframe\">\n",
       "  <thead>\n",
       "    <tr style=\"text-align: right;\">\n",
       "      <th></th>\n",
       "      <th>County</th>\n",
       "      <th>City</th>\n",
       "      <th>Model Year</th>\n",
       "      <th>Maker</th>\n",
       "      <th>Model</th>\n",
       "      <th>EV Type</th>\n",
       "      <th>CAFV Eligibility</th>\n",
       "      <th>Electric Range</th>\n",
       "      <th>Electric Utility</th>\n",
       "    </tr>\n",
       "  </thead>\n",
       "  <tbody>\n",
       "    <tr>\n",
       "      <th>0</th>\n",
       "      <td>Snohomish</td>\n",
       "      <td>Bothell</td>\n",
       "      <td>2016</td>\n",
       "      <td>AUDI</td>\n",
       "      <td>A3</td>\n",
       "      <td>PHEV</td>\n",
       "      <td>Not eligible</td>\n",
       "      <td>16</td>\n",
       "      <td>PSE INC</td>\n",
       "    </tr>\n",
       "    <tr>\n",
       "      <th>1</th>\n",
       "      <td>Kitsap</td>\n",
       "      <td>Bainbridge Island</td>\n",
       "      <td>2016</td>\n",
       "      <td>AUDI</td>\n",
       "      <td>A3</td>\n",
       "      <td>PHEV</td>\n",
       "      <td>Not eligible</td>\n",
       "      <td>16</td>\n",
       "      <td>PSE INC</td>\n",
       "    </tr>\n",
       "    <tr>\n",
       "      <th>2</th>\n",
       "      <td>Kitsap</td>\n",
       "      <td>Bremerton</td>\n",
       "      <td>2016</td>\n",
       "      <td>AUDI</td>\n",
       "      <td>A3</td>\n",
       "      <td>PHEV</td>\n",
       "      <td>Not eligible</td>\n",
       "      <td>16</td>\n",
       "      <td>PSE INC</td>\n",
       "    </tr>\n",
       "    <tr>\n",
       "      <th>3</th>\n",
       "      <td>Kitsap</td>\n",
       "      <td>Bremerton</td>\n",
       "      <td>2016</td>\n",
       "      <td>AUDI</td>\n",
       "      <td>A3</td>\n",
       "      <td>PHEV</td>\n",
       "      <td>Not eligible</td>\n",
       "      <td>16</td>\n",
       "      <td>PSE INC</td>\n",
       "    </tr>\n",
       "    <tr>\n",
       "      <th>4</th>\n",
       "      <td>Kitsap</td>\n",
       "      <td>Bainbridge Island</td>\n",
       "      <td>2016</td>\n",
       "      <td>AUDI</td>\n",
       "      <td>A3</td>\n",
       "      <td>PHEV</td>\n",
       "      <td>Not eligible</td>\n",
       "      <td>16</td>\n",
       "      <td>PSE INC</td>\n",
       "    </tr>\n",
       "    <tr>\n",
       "      <th>5</th>\n",
       "      <td>Thurston</td>\n",
       "      <td>Olympia</td>\n",
       "      <td>2016</td>\n",
       "      <td>AUDI</td>\n",
       "      <td>A3</td>\n",
       "      <td>PHEV</td>\n",
       "      <td>Not eligible</td>\n",
       "      <td>16</td>\n",
       "      <td>PSE INC</td>\n",
       "    </tr>\n",
       "    <tr>\n",
       "      <th>6</th>\n",
       "      <td>Thurston</td>\n",
       "      <td>Rochester</td>\n",
       "      <td>2016</td>\n",
       "      <td>AUDI</td>\n",
       "      <td>A3</td>\n",
       "      <td>PHEV</td>\n",
       "      <td>Not eligible</td>\n",
       "      <td>16</td>\n",
       "      <td>PSE INC</td>\n",
       "    </tr>\n",
       "    <tr>\n",
       "      <th>7</th>\n",
       "      <td>Kitsap</td>\n",
       "      <td>Bremerton</td>\n",
       "      <td>2016</td>\n",
       "      <td>AUDI</td>\n",
       "      <td>A3</td>\n",
       "      <td>PHEV</td>\n",
       "      <td>Not eligible</td>\n",
       "      <td>16</td>\n",
       "      <td>PSE INC</td>\n",
       "    </tr>\n",
       "    <tr>\n",
       "      <th>8</th>\n",
       "      <td>Snohomish</td>\n",
       "      <td>Bothell</td>\n",
       "      <td>2016</td>\n",
       "      <td>AUDI</td>\n",
       "      <td>A3</td>\n",
       "      <td>PHEV</td>\n",
       "      <td>Not eligible</td>\n",
       "      <td>16</td>\n",
       "      <td>PSE INC</td>\n",
       "    </tr>\n",
       "    <tr>\n",
       "      <th>9</th>\n",
       "      <td>Snohomish</td>\n",
       "      <td>Bothell</td>\n",
       "      <td>2016</td>\n",
       "      <td>AUDI</td>\n",
       "      <td>A3</td>\n",
       "      <td>PHEV</td>\n",
       "      <td>Not eligible</td>\n",
       "      <td>16</td>\n",
       "      <td>PSE INC</td>\n",
       "    </tr>\n",
       "  </tbody>\n",
       "</table>\n",
       "</div>"
      ],
      "text/plain": [
       "      County               City  Model Year Maker Model EV Type  \\\n",
       "0  Snohomish            Bothell        2016  AUDI    A3    PHEV   \n",
       "1     Kitsap  Bainbridge Island        2016  AUDI    A3    PHEV   \n",
       "2     Kitsap          Bremerton        2016  AUDI    A3    PHEV   \n",
       "3     Kitsap          Bremerton        2016  AUDI    A3    PHEV   \n",
       "4     Kitsap  Bainbridge Island        2016  AUDI    A3    PHEV   \n",
       "5   Thurston            Olympia        2016  AUDI    A3    PHEV   \n",
       "6   Thurston          Rochester        2016  AUDI    A3    PHEV   \n",
       "7     Kitsap          Bremerton        2016  AUDI    A3    PHEV   \n",
       "8  Snohomish            Bothell        2016  AUDI    A3    PHEV   \n",
       "9  Snohomish            Bothell        2016  AUDI    A3    PHEV   \n",
       "\n",
       "  CAFV Eligibility  Electric Range Electric Utility  \n",
       "0     Not eligible              16          PSE INC  \n",
       "1     Not eligible              16          PSE INC  \n",
       "2     Not eligible              16          PSE INC  \n",
       "3     Not eligible              16          PSE INC  \n",
       "4     Not eligible              16          PSE INC  \n",
       "5     Not eligible              16          PSE INC  \n",
       "6     Not eligible              16          PSE INC  \n",
       "7     Not eligible              16          PSE INC  \n",
       "8     Not eligible              16          PSE INC  \n",
       "9     Not eligible              16          PSE INC  "
      ]
     },
     "execution_count": 246,
     "metadata": {},
     "output_type": "execute_result"
    }
   ],
   "source": [
    "#Filter dataset berdasarkan kolom \"Model Year\" dan \"Electric Utility\".\n",
    "years = [2016, 2017, 2018, 2019, 2020]\n",
    "sort_cols = ['Model Year', 'Maker', 'Model'] \n",
    "utilities = ['AVISTA CORP', 'PACIFICORP', 'PSE INC']\n",
    "df = df.loc[df['Model Year'].isin(years) & df['Electric Utility'].isin(utilities)].sort_values(sort_cols).reset_index(drop=True)\n",
    "df.head(10)"
   ]
  },
  {
   "cell_type": "code",
   "execution_count": 247,
   "metadata": {},
   "outputs": [
    {
     "data": {
      "text/plain": [
       "(11045, 9)"
      ]
     },
     "execution_count": 247,
     "metadata": {},
     "output_type": "execute_result"
    }
   ],
   "source": [
    "df.shape"
   ]
  },
  {
   "cell_type": "code",
   "execution_count": 248,
   "metadata": {},
   "outputs": [
    {
     "data": {
      "text/plain": [
       "False"
      ]
     },
     "execution_count": 248,
     "metadata": {},
     "output_type": "execute_result"
    }
   ],
   "source": [
    "df.isnull().values.any()"
   ]
  },
  {
   "cell_type": "code",
   "execution_count": 249,
   "metadata": {},
   "outputs": [
    {
     "data": {
      "text/plain": [
       "True"
      ]
     },
     "execution_count": 249,
     "metadata": {},
     "output_type": "execute_result"
    }
   ],
   "source": [
    "df.duplicated().any()"
   ]
  },
  {
   "cell_type": "code",
   "execution_count": 250,
   "metadata": {},
   "outputs": [
    {
     "data": {
      "text/plain": [
       "False"
      ]
     },
     "execution_count": 250,
     "metadata": {},
     "output_type": "execute_result"
    }
   ],
   "source": [
    "df = df.drop_duplicates(keep='first')\n",
    "df.duplicated().any()"
   ]
  },
  {
   "cell_type": "code",
   "execution_count": 251,
   "metadata": {},
   "outputs": [
    {
     "name": "stdout",
     "output_type": "stream",
     "text": [
      "<class 'pandas.core.frame.DataFrame'>\n",
      "Int64Index: 3174 entries, 0 to 11044\n",
      "Data columns (total 9 columns):\n",
      " #   Column            Non-Null Count  Dtype \n",
      "---  ------            --------------  ----- \n",
      " 0   County            3174 non-null   object\n",
      " 1   City              3174 non-null   object\n",
      " 2   Model Year        3174 non-null   int64 \n",
      " 3   Maker             3174 non-null   object\n",
      " 4   Model             3174 non-null   object\n",
      " 5   EV Type           3174 non-null   object\n",
      " 6   CAFV Eligibility  3174 non-null   object\n",
      " 7   Electric Range    3174 non-null   int64 \n",
      " 8   Electric Utility  3174 non-null   object\n",
      "dtypes: int64(2), object(7)\n",
      "memory usage: 248.0+ KB\n"
     ]
    }
   ],
   "source": [
    "df.info()"
   ]
  },
  {
   "cell_type": "code",
   "execution_count": 252,
   "metadata": {},
   "outputs": [],
   "source": [
    "df.to_csv('EV_part1.csv', index=False)"
   ]
  }
 ],
 "metadata": {
  "kernelspec": {
   "display_name": "Python 3.8.10 ('Panda')",
   "language": "python",
   "name": "python3"
  },
  "language_info": {
   "codemirror_mode": {
    "name": "ipython",
    "version": 3
   },
   "file_extension": ".py",
   "mimetype": "text/x-python",
   "name": "python",
   "nbconvert_exporter": "python",
   "pygments_lexer": "ipython3",
   "version": "3.8.10"
  },
  "orig_nbformat": 4,
  "vscode": {
   "interpreter": {
    "hash": "c08bbeb949764966fb9ec573fdcebc3a4dd20a66145d89cfc01fdb15c528946a"
   }
  }
 },
 "nbformat": 4,
 "nbformat_minor": 2
}
