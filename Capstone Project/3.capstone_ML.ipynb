{
 "cells": [
  {
   "cell_type": "code",
   "execution_count": 205,
   "metadata": {},
   "outputs": [
    {
     "name": "stdout",
     "output_type": "stream",
     "text": [
      "<class 'pandas.core.frame.DataFrame'>\n",
      "RangeIndex: 3174 entries, 0 to 3173\n",
      "Data columns (total 9 columns):\n",
      " #   Column            Non-Null Count  Dtype \n",
      "---  ------            --------------  ----- \n",
      " 0   County            3174 non-null   object\n",
      " 1   City              3174 non-null   object\n",
      " 2   Model Year        3174 non-null   int64 \n",
      " 3   Maker             3174 non-null   object\n",
      " 4   Model             3174 non-null   object\n",
      " 5   EV Type           3174 non-null   object\n",
      " 6   CAFV Eligibility  3174 non-null   object\n",
      " 7   Electric Range    3174 non-null   int64 \n",
      " 8   Electric Utility  3174 non-null   object\n",
      "dtypes: int64(2), object(7)\n",
      "memory usage: 223.3+ KB\n"
     ]
    }
   ],
   "source": [
    "import pandas as pd\n",
    "import numpy as np\n",
    "import seaborn as sns\n",
    "import matplotlib.pyplot as plt\n",
    "df = pd.read_csv('EV_part2.csv')\n",
    "df.info()"
   ]
  },
  {
   "cell_type": "code",
   "execution_count": 206,
   "metadata": {},
   "outputs": [
    {
     "name": "stdout",
     "output_type": "stream",
     "text": [
      "['Adams' 'Asotin' 'Columbia' 'Ferry' 'Franklin' 'Garfield' 'Island'\n",
      " 'Kitsap' 'Kittitas' 'Lincoln' 'Skagit' 'Snohomish' 'Spokane' 'Stevens'\n",
      " 'Thurston' 'Walla Walla' 'Whitman' 'Yakima']\n",
      "[ 0  1  2  3  4  5  6  7  8  9 10 11 12 13 14 15 16 17]\n",
      "\n",
      "['Addy' 'Airway Heights' 'Anacortes' 'Arlington' 'Asotin'\n",
      " 'Bainbridge Island' 'Bellingham' 'Bothell' 'Bow' 'Bremerton' 'Brier'\n",
      " 'Burlington' 'Centralia' 'Cheney' 'Chewelah' 'Clarkston' 'Cle Elum'\n",
      " 'Clearlake' 'Clinton' 'Colbert' 'Colfax' 'College Place' 'Colton'\n",
      " 'Colville' 'Concrete' 'Coupeville' 'Cowiche' 'Darrington' 'Davenport'\n",
      " 'Dayton' 'Deer Meadows' 'Deer Park' 'Easton' 'Edmonds' 'Edwall'\n",
      " 'Ellensburg' 'Endicott' 'Evans' 'Everett' 'Fairchild Air Force Base'\n",
      " 'Fairfield' 'Ford' 'Freeland' 'Fruitland' 'Garfield' 'Gig Harbor'\n",
      " 'Granite Falls' 'Greenacres' 'Greenbank' 'Hansville' 'Hatton' 'Hunters'\n",
      " 'Indianola' 'Kettle Falls' 'Keyport' 'Kingston' 'Kittitas' 'La Conner'\n",
      " 'Lacey' 'Lake Stevens' 'Lamont' 'Langley' 'Latah' 'Liberty Lake'\n",
      " 'Lincoln' 'Lind' 'Loon Lake' 'Lynnwood' 'Marblemount' 'Marysville' 'Mead'\n",
      " 'Medical Lake' 'Mica' 'Mill Creek' 'Monroe' 'Mount Vernon'\n",
      " 'Mountlake Terrace' 'Moxee' 'Mukilteo' 'Naches' 'Newman Lake'\n",
      " 'Nine Mile Falls' 'Oak Harbor' 'Olalla' 'Olympia' 'Othello'\n",
      " 'Otis Orchards' 'Palouse' 'Pomeroy' 'Port Orchard' 'Poulsbo' 'Pullman'\n",
      " 'Rainier' 'Reardan' 'Rice' 'Ritzville' 'Rochester' 'Rockford' 'Ronald'\n",
      " 'Rosalia' 'Roslyn' 'Seabeck' 'Sedro Woolley' 'Sedro-Woolley' 'Selah'\n",
      " 'Silverdale' 'Snohomish' 'Snoqualmie Pass' 'South Cle Elum' 'Spangle'\n",
      " 'Spokane' 'Spokane Valley' 'Stanwood' 'Sultan' 'Suquamish' 'Tekoa'\n",
      " 'Tenino' 'Thorp' 'Tieton' 'Toppenish' 'Touchet' 'Tulalip' 'Tumwater'\n",
      " 'Union Gap' 'Valley' 'Valleyford' 'Veradale' 'Waitsburg' 'Walla Walla'\n",
      " 'Walla Walla Co' 'Wapato' 'White Swan' 'Wilbur' 'Woodinville' 'Woodway'\n",
      " 'Yakima' 'Yelm' 'Zillah']\n",
      "[  0   1   2   3   4   5   6   7   8   9  10  11  12  13  14  15  16  17\n",
      "  18  19  20  21  22  23  24  25  26  27  28  29  30  31  32  33  34  35\n",
      "  36  37  38  39  40  41  42  43  44  45  46  47  48  49  50  51  52  53\n",
      "  54  55  56  57  58  59  60  61  62  63  64  65  66  67  68  69  70  71\n",
      "  72  73  74  75  76  77  78  79  80  81  82  83  84  85  86  87  88  89\n",
      "  90  91  92  93  94  95  96  97  98  99 100 101 102 103 104 105 106 107\n",
      " 108 109 110 111 112 113 114 115 116 117 118 119 120 121 122 123 124 125\n",
      " 126 127 128 129 130 131 132 133 134 135 136 137]\n",
      "\n",
      "['AUDI' 'BENTLEY' 'BMW' 'CADILLAC' 'CHEVROLET' 'CHRYSLER' 'FIAT' 'FORD'\n",
      " 'HONDA' 'HYUNDAI' 'JAGUAR' 'KIA' 'LAND ROVER' 'LINCOLN' 'MERCEDES-BENZ'\n",
      " 'MINI' 'MITSUBISHI' 'NISSAN' 'PORSCHE' 'SMART' 'SUBARU' 'TESLA' 'TOYOTA'\n",
      " 'VOLKSWAGEN' 'VOLVO']\n",
      "[ 0  1  2  3  4  5  6  7  8  9 10 11 12 13 14 15 16 17 18 19 20 21 22 23\n",
      " 24]\n",
      "\n",
      "['330E' '500' '530E' '740E' 'A3' 'AVIATOR' 'B-CLASS' 'BENTAYGA' 'BOLT EV'\n",
      " 'C-CLASS' 'C-MAX' 'CAYENNE' 'CLARITY' 'COUNTRYMAN' 'CROSSTREK' 'CT6'\n",
      " 'E-GOLF' 'E-TRON' 'E-TRON SPORTBACK' 'ELR' 'EQ FORTWO' 'FOCUS' 'FORTWO'\n",
      " 'FUSION' 'GLC-CLASS' 'GLE-CLASS' 'I-MIEV' 'I-PACE' 'I3' 'I8' 'IONIQ'\n",
      " 'KONA' 'LEAF' 'MODEL 3' 'MODEL S' 'MODEL X' 'MODEL Y' 'NIRO' 'OPTIMA'\n",
      " 'OUTLANDER' 'PACIFICA' 'PANAMERA' 'PRIUS PRIME' 'Q5 E' 'RANGE ROVER'\n",
      " 'RANGE ROVER SPORT' 'S-CLASS' 'S60' 'S90' 'SONATA' 'SOUL' 'SOUL EV'\n",
      " 'SPARK' 'TAYCAN' 'V60' 'VOLT' 'X3' 'X5' 'XC60' 'XC90']\n",
      "[ 0  1  2  3  4  5  6  7  8  9 10 11 12 13 14 15 16 17 18 19 20 21 22 23\n",
      " 24 25 26 27 28 29 30 31 32 33 34 35 36 37 38 39 40 41 42 43 44 45 46 47\n",
      " 48 49 50 51 52 53 54 55 56 57 58 59]\n",
      "\n",
      "['BEV' 'PHEV']\n",
      "[0 1]\n",
      "\n",
      "['Eligible' 'Not eligible' 'Unknown']\n",
      "[0 1 2]\n",
      "\n",
      "['AVISTA CORP' 'PACIFICORP' 'PSE INC']\n",
      "[0 1 2]\n",
      "\n"
     ]
    }
   ],
   "source": [
    "#Encoding categoric columns\n",
    "from sklearn.preprocessing import LabelEncoder\n",
    "\n",
    "cols = ['County', 'City', 'Maker', 'Model', 'EV Type', 'CAFV Eligibility', 'Electric Utility']\n",
    "for col in cols:\n",
    "    LE = LabelEncoder()\n",
    "    df[col] = LE.fit_transform(df[col])\n",
    "    print(LE.classes_)\n",
    "    print(np.sort(df[col].unique()))\n",
    "    print('')"
   ]
  },
  {
   "cell_type": "code",
   "execution_count": 207,
   "metadata": {},
   "outputs": [
    {
     "data": {
      "text/html": [
       "<div>\n",
       "<style scoped>\n",
       "    .dataframe tbody tr th:only-of-type {\n",
       "        vertical-align: middle;\n",
       "    }\n",
       "\n",
       "    .dataframe tbody tr th {\n",
       "        vertical-align: top;\n",
       "    }\n",
       "\n",
       "    .dataframe thead th {\n",
       "        text-align: right;\n",
       "    }\n",
       "</style>\n",
       "<table border=\"1\" class=\"dataframe\">\n",
       "  <thead>\n",
       "    <tr style=\"text-align: right;\">\n",
       "      <th></th>\n",
       "      <th>County</th>\n",
       "      <th>City</th>\n",
       "      <th>Model Year</th>\n",
       "      <th>Maker</th>\n",
       "      <th>Model</th>\n",
       "      <th>EV Type</th>\n",
       "      <th>CAFV Eligibility</th>\n",
       "      <th>Electric Range</th>\n",
       "      <th>Electric Utility</th>\n",
       "    </tr>\n",
       "  </thead>\n",
       "  <tbody>\n",
       "    <tr>\n",
       "      <th>0</th>\n",
       "      <td>11</td>\n",
       "      <td>7</td>\n",
       "      <td>2016</td>\n",
       "      <td>0</td>\n",
       "      <td>4</td>\n",
       "      <td>1</td>\n",
       "      <td>1</td>\n",
       "      <td>16</td>\n",
       "      <td>2</td>\n",
       "    </tr>\n",
       "    <tr>\n",
       "      <th>1</th>\n",
       "      <td>7</td>\n",
       "      <td>5</td>\n",
       "      <td>2016</td>\n",
       "      <td>0</td>\n",
       "      <td>4</td>\n",
       "      <td>1</td>\n",
       "      <td>1</td>\n",
       "      <td>16</td>\n",
       "      <td>2</td>\n",
       "    </tr>\n",
       "    <tr>\n",
       "      <th>2</th>\n",
       "      <td>7</td>\n",
       "      <td>9</td>\n",
       "      <td>2016</td>\n",
       "      <td>0</td>\n",
       "      <td>4</td>\n",
       "      <td>1</td>\n",
       "      <td>1</td>\n",
       "      <td>16</td>\n",
       "      <td>2</td>\n",
       "    </tr>\n",
       "    <tr>\n",
       "      <th>3</th>\n",
       "      <td>14</td>\n",
       "      <td>84</td>\n",
       "      <td>2016</td>\n",
       "      <td>0</td>\n",
       "      <td>4</td>\n",
       "      <td>1</td>\n",
       "      <td>1</td>\n",
       "      <td>16</td>\n",
       "      <td>2</td>\n",
       "    </tr>\n",
       "    <tr>\n",
       "      <th>4</th>\n",
       "      <td>14</td>\n",
       "      <td>96</td>\n",
       "      <td>2016</td>\n",
       "      <td>0</td>\n",
       "      <td>4</td>\n",
       "      <td>1</td>\n",
       "      <td>1</td>\n",
       "      <td>16</td>\n",
       "      <td>2</td>\n",
       "    </tr>\n",
       "    <tr>\n",
       "      <th>...</th>\n",
       "      <td>...</td>\n",
       "      <td>...</td>\n",
       "      <td>...</td>\n",
       "      <td>...</td>\n",
       "      <td>...</td>\n",
       "      <td>...</td>\n",
       "      <td>...</td>\n",
       "      <td>...</td>\n",
       "      <td>...</td>\n",
       "    </tr>\n",
       "    <tr>\n",
       "      <th>3169</th>\n",
       "      <td>11</td>\n",
       "      <td>134</td>\n",
       "      <td>2020</td>\n",
       "      <td>24</td>\n",
       "      <td>59</td>\n",
       "      <td>1</td>\n",
       "      <td>1</td>\n",
       "      <td>18</td>\n",
       "      <td>2</td>\n",
       "    </tr>\n",
       "    <tr>\n",
       "      <th>3170</th>\n",
       "      <td>14</td>\n",
       "      <td>84</td>\n",
       "      <td>2020</td>\n",
       "      <td>24</td>\n",
       "      <td>59</td>\n",
       "      <td>1</td>\n",
       "      <td>1</td>\n",
       "      <td>18</td>\n",
       "      <td>2</td>\n",
       "    </tr>\n",
       "    <tr>\n",
       "      <th>3171</th>\n",
       "      <td>11</td>\n",
       "      <td>33</td>\n",
       "      <td>2020</td>\n",
       "      <td>24</td>\n",
       "      <td>59</td>\n",
       "      <td>1</td>\n",
       "      <td>1</td>\n",
       "      <td>18</td>\n",
       "      <td>2</td>\n",
       "    </tr>\n",
       "    <tr>\n",
       "      <th>3172</th>\n",
       "      <td>6</td>\n",
       "      <td>61</td>\n",
       "      <td>2020</td>\n",
       "      <td>24</td>\n",
       "      <td>59</td>\n",
       "      <td>1</td>\n",
       "      <td>1</td>\n",
       "      <td>18</td>\n",
       "      <td>2</td>\n",
       "    </tr>\n",
       "    <tr>\n",
       "      <th>3173</th>\n",
       "      <td>8</td>\n",
       "      <td>108</td>\n",
       "      <td>2020</td>\n",
       "      <td>24</td>\n",
       "      <td>59</td>\n",
       "      <td>1</td>\n",
       "      <td>1</td>\n",
       "      <td>18</td>\n",
       "      <td>2</td>\n",
       "    </tr>\n",
       "  </tbody>\n",
       "</table>\n",
       "<p>3174 rows × 9 columns</p>\n",
       "</div>"
      ],
      "text/plain": [
       "      County  City  Model Year  Maker  Model  EV Type  CAFV Eligibility  \\\n",
       "0         11     7        2016      0      4        1                 1   \n",
       "1          7     5        2016      0      4        1                 1   \n",
       "2          7     9        2016      0      4        1                 1   \n",
       "3         14    84        2016      0      4        1                 1   \n",
       "4         14    96        2016      0      4        1                 1   \n",
       "...      ...   ...         ...    ...    ...      ...               ...   \n",
       "3169      11   134        2020     24     59        1                 1   \n",
       "3170      14    84        2020     24     59        1                 1   \n",
       "3171      11    33        2020     24     59        1                 1   \n",
       "3172       6    61        2020     24     59        1                 1   \n",
       "3173       8   108        2020     24     59        1                 1   \n",
       "\n",
       "      Electric Range  Electric Utility  \n",
       "0                 16                 2  \n",
       "1                 16                 2  \n",
       "2                 16                 2  \n",
       "3                 16                 2  \n",
       "4                 16                 2  \n",
       "...              ...               ...  \n",
       "3169              18                 2  \n",
       "3170              18                 2  \n",
       "3171              18                 2  \n",
       "3172              18                 2  \n",
       "3173              18                 2  \n",
       "\n",
       "[3174 rows x 9 columns]"
      ]
     },
     "execution_count": 207,
     "metadata": {},
     "output_type": "execute_result"
    }
   ],
   "source": [
    "df"
   ]
  },
  {
   "cell_type": "code",
   "execution_count": 208,
   "metadata": {},
   "outputs": [
    {
     "data": {
      "text/plain": [
       "DecisionTreeClassifier()"
      ]
     },
     "execution_count": 208,
     "metadata": {},
     "output_type": "execute_result"
    }
   ],
   "source": [
    "# split data\n",
    "from sklearn.model_selection import train_test_split\n",
    "\n",
    "feature = df.drop(columns=['CAFV Eligibility'])\n",
    "target = df[['CAFV Eligibility']]\n",
    "\n",
    "feature_ev1_train, feature_ev1_test, target_ev1_train, target_ev1_test = train_test_split(feature, target, test_size=0.30, random_state=42)\n",
    "\n",
    "# convert data into numpy arrays\n",
    "X_ev1_train = feature_ev1_train.to_numpy()\n",
    "y_ev1_train = target_ev1_train.to_numpy().ravel()\n",
    "\n",
    "from sklearn.tree import DecisionTreeClassifier\n",
    "\n",
    "# define the model\n",
    "dectree = DecisionTreeClassifier()\n",
    "\n",
    "# train the model\n",
    "dectree.fit(X_ev1_train, y_ev1_train)"
   ]
  },
  {
   "cell_type": "code",
   "execution_count": 209,
   "metadata": {},
   "outputs": [
    {
     "data": {
      "image/png": "[encoded data removed]",
      "text/plain": [
       "<Figure size 1800x720 with 1 Axes>"
      ]
     },
     "metadata": {
      "needs_background": "light"
     },
     "output_type": "display_data"
    }
   ],
   "source": [
    "from sklearn.tree import plot_tree\n",
    "plt.figure(figsize=(25, 10))\n",
    "plot_tree(\n",
    "    dectree,\n",
    "    feature_names=feature.columns.values,\n",
    "    impurity=False,\n",
    "    filled=False,\n",
    "    fontsize=14\n",
    ")\n",
    "plt.show()"
   ]
  },
  {
   "cell_type": "code",
   "execution_count": 210,
   "metadata": {},
   "outputs": [
    {
     "name": "stdout",
     "output_type": "stream",
     "text": [
      "Accuracy on training data is 1.0\n"
     ]
    }
   ],
   "source": [
    "# accuracy score on training data\n",
    "from sklearn.metrics import accuracy_score\n",
    "\n",
    "y_predict_train = dectree.predict(X_ev1_train)\n",
    "\n",
    "print(f\"Accuracy on training data is {accuracy_score(y_ev1_train,y_predict_train)}\")"
   ]
  },
  {
   "cell_type": "code",
   "execution_count": 211,
   "metadata": {},
   "outputs": [
    {
     "name": "stdout",
     "output_type": "stream",
     "text": [
      "Accuracy on test data is 0.9989506820566632\n"
     ]
    }
   ],
   "source": [
    "# prepare test data as numpy arrays\n",
    "X_ev1_test = feature_ev1_test.to_numpy()\n",
    "y_ev1_test = target_ev1_test.to_numpy().ravel()\n",
    "\n",
    "# accuracy score on test data\n",
    "y_predict_test = dectree.predict(X_ev1_test)\n",
    "\n",
    "print(f\"Accuracy on test data is {accuracy_score(y_ev1_test,y_predict_test)}\")"
   ]
  }
 ],
 "metadata": {
  "kernelspec": {
   "display_name": "Python 3.8.10 ('Panda')",
   "language": "python",
   "name": "python3"
  },
  "language_info": {
   "codemirror_mode": {
    "name": "ipython",
    "version": 3
   },
   "file_extension": ".py",
   "mimetype": "text/x-python",
   "name": "python",
   "nbconvert_exporter": "python",
   "pygments_lexer": "ipython3",
   "version": "3.8.10"
  },
  "orig_nbformat": 4,
  "vscode": {
   "interpreter": {
    "hash": "c08bbeb949764966fb9ec573fdcebc3a4dd20a66145d89cfc01fdb15c528946a"
   }
  }
 },
 "nbformat": 4,
 "nbformat_minor": 2
}
